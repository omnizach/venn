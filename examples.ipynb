{
 "metadata": {
  "name": ""
 },
 "nbformat": 3,
 "nbformat_minor": 0,
 "worksheets": [
  {
   "cells": [
    {
     "cell_type": "code",
     "collapsed": false,
     "input": [
      "import venn"
     ],
     "language": "python",
     "metadata": {},
     "outputs": [],
     "prompt_number": 1
    },
    {
     "cell_type": "markdown",
     "metadata": {},
     "source": [
      "## 10% Overlap, Equal-sized Circles"
     ]
    },
    {
     "cell_type": "code",
     "collapsed": false,
     "input": [
      "venn.VennDiagram(100, 100, 10)"
     ],
     "language": "python",
     "metadata": {},
     "outputs": [
      {
       "metadata": {},
       "output_type": "pyout",
       "prompt_number": 7,
       "svg": [
        "<svg height=\"240.000000\" version=\"1.0\" width=\"401.077881\" xmlns=\"http://www.w3.org/2000/svg\">\n",
        "\t\t\t\t\t<circle r=\"100.000000\" cx=\"120.000000\" cy=\"120.000000\" fill=\"#ff0000\" opacity=\"0.4\" />\n",
        "\t\t\t\t\t<circle r=\"100.000000\" cx=\"281.077881\" cy=\"120.000000\" fill=\"#0000ff\" opacity=\"0.4\" />\n",
        "\t\t\t\t  </svg>"
       ],
       "text": [
        "VennDiagram(100.000000, 100.000000, 10.000000, 0.001000)"
       ]
      }
     ],
     "prompt_number": 7
    },
    {
     "cell_type": "markdown",
     "metadata": {},
     "source": [
      "## No Overlap"
     ]
    },
    {
     "cell_type": "code",
     "collapsed": false,
     "input": [
      "venn.VennDiagram(10, 10, 0)"
     ],
     "language": "python",
     "metadata": {},
     "outputs": [
      {
       "metadata": {},
       "output_type": "pyout",
       "prompt_number": 3,
       "svg": [
        "<svg height=\"240.000000\" version=\"1.0\" width=\"440.000000\" xmlns=\"http://www.w3.org/2000/svg\">\n",
        "\t\t\t\t\t<circle r=\"100.000000\" cx=\"120.000000\" cy=\"120.000000\" fill=\"#ff0000\" opacity=\"0.4\" />\n",
        "\t\t\t\t\t<circle r=\"100.000000\" cx=\"320.000000\" cy=\"120.000000\" fill=\"#0000ff\" opacity=\"0.4\" />\n",
        "\t\t\t\t  </svg>"
       ],
       "text": [
        "VennDiagram(10.000000, 10.000000, 0.000000, 0.000000)"
       ]
      }
     ],
     "prompt_number": 3
    },
    {
     "cell_type": "markdown",
     "metadata": {},
     "source": [
      "## Total Overlap"
     ]
    },
    {
     "cell_type": "code",
     "collapsed": false,
     "input": [
      "venn.VennDiagram(10, 10, 10)"
     ],
     "language": "python",
     "metadata": {},
     "outputs": [
      {
       "metadata": {},
       "output_type": "pyout",
       "prompt_number": 4,
       "svg": [
        "<svg height=\"240.000000\" version=\"1.0\" width=\"240.012207\" xmlns=\"http://www.w3.org/2000/svg\">\n",
        "\t\t\t\t\t<circle r=\"100.000000\" cx=\"120.000000\" cy=\"120.000000\" fill=\"#ff0000\" opacity=\"0.4\" />\n",
        "\t\t\t\t\t<circle r=\"100.000000\" cx=\"120.012207\" cy=\"120.000000\" fill=\"#0000ff\" opacity=\"0.4\" />\n",
        "\t\t\t\t  </svg>"
       ],
       "text": [
        "VennDiagram(10.000000, 10.000000, 10.000000, 0.001000)"
       ]
      }
     ],
     "prompt_number": 4
    },
    {
     "cell_type": "markdown",
     "metadata": {},
     "source": [
      "## Different Sizes"
     ]
    },
    {
     "cell_type": "code",
     "collapsed": false,
     "input": [
      "venn.VennDiagram(100, 10, 1)"
     ],
     "language": "python",
     "metadata": {},
     "outputs": [
      {
       "metadata": {},
       "output_type": "pyout",
       "prompt_number": 5,
       "svg": [
        "<svg height=\"240.000000\" version=\"1.0\" width=\"292.521911\" xmlns=\"http://www.w3.org/2000/svg\">\n",
        "\t\t\t\t\t<circle r=\"100.000000\" cx=\"120.000000\" cy=\"120.000000\" fill=\"#ff0000\" opacity=\"0.4\" />\n",
        "\t\t\t\t\t<circle r=\"31.622777\" cx=\"240.899135\" cy=\"120.000000\" fill=\"#0000ff\" opacity=\"0.4\" />\n",
        "\t\t\t\t  </svg>"
       ],
       "text": [
        "VennDiagram(100.000000, 10.000000, 1.000000, 0.000100)"
       ]
      }
     ],
     "prompt_number": 5
    },
    {
     "cell_type": "markdown",
     "metadata": {},
     "source": [
      "## Different Sizes, Total Overlap"
     ]
    },
    {
     "cell_type": "code",
     "collapsed": false,
     "input": [
      "venn.VennDiagram(100, 10, 10)"
     ],
     "language": "python",
     "metadata": {},
     "outputs": [
      {
       "metadata": {},
       "output_type": "pyout",
       "prompt_number": 6,
       "svg": [
        "<svg height=\"240.000000\" version=\"1.0\" width=\"240.061763\" xmlns=\"http://www.w3.org/2000/svg\">\n",
        "\t\t\t\t\t<circle r=\"100.000000\" cx=\"120.000000\" cy=\"120.000000\" fill=\"#ff0000\" opacity=\"0.4\" />\n",
        "\t\t\t\t\t<circle r=\"31.622777\" cx=\"188.438987\" cy=\"120.000000\" fill=\"#0000ff\" opacity=\"0.4\" />\n",
        "\t\t\t\t  </svg>"
       ],
       "text": [
        "VennDiagram(100.000000, 10.000000, 10.000000, 0.001000)"
       ]
      }
     ],
     "prompt_number": 6
    },
    {
     "cell_type": "code",
     "collapsed": false,
     "input": [],
     "language": "python",
     "metadata": {},
     "outputs": []
    }
   ],
   "metadata": {}
  }
 ]
}